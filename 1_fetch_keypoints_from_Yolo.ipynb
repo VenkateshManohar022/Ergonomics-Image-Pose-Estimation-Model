{
 "cells": [
  {
   "cell_type": "code",
   "execution_count": 1,
   "id": "92b18ee8",
   "metadata": {},
   "outputs": [
    {
     "name": "stdout",
     "output_type": "stream",
     "text": [
      "\n",
      "image 1/1 /Users/manohar/Documents/GCP_ML_Engineer/Code/Lab/9_Image_Ergonomics/images/image_7.jpg: 384x640 2 persons, 139.9ms\n",
      "Speed: 1.9ms preprocess, 139.9ms inference, 0.4ms postprocess per image at shape (1, 3, 384, 640)\n",
      "Results saved to \u001b[1mruns/pose/predict11\u001b[0m\n",
      "Predict :  [ultralytics.engine.results.Results object with attributes:\n",
      "\n",
      "boxes: ultralytics.engine.results.Boxes object\n",
      "keypoints: ultralytics.engine.results.Keypoints object\n",
      "masks: None\n",
      "names: {0: 'person'}\n",
      "obb: None\n",
      "orig_img: array([[[40, 22, 16],\n",
      "        [40, 22, 16],\n",
      "        [40, 22, 16],\n",
      "        ...,\n",
      "        [87, 88, 72],\n",
      "        [87, 88, 72],\n",
      "        [87, 88, 72]],\n",
      "\n",
      "       [[40, 22, 16],\n",
      "        [40, 22, 16],\n",
      "        [40, 22, 16],\n",
      "        ...,\n",
      "        [77, 76, 60],\n",
      "        [77, 76, 60],\n",
      "        [77, 76, 60]],\n",
      "\n",
      "       [[40, 22, 16],\n",
      "        [40, 22, 16],\n",
      "        [40, 22, 16],\n",
      "        ...,\n",
      "        [72, 68, 53],\n",
      "        [72, 68, 53],\n",
      "        [72, 68, 53]],\n",
      "\n",
      "       ...,\n",
      "\n",
      "       [[36, 16, 13],\n",
      "        [34, 17, 13],\n",
      "        [30, 18, 11],\n",
      "        ...,\n",
      "        [18, 17, 15],\n",
      "        [18, 17, 15],\n",
      "        [18, 17, 15]],\n",
      "\n",
      "       [[36, 16, 13],\n",
      "        [32, 16, 12],\n",
      "        [28, 17, 10],\n",
      "        ...,\n",
      "        [18, 17, 15],\n",
      "        [18, 17, 15],\n",
      "        [18, 17, 15]],\n",
      "\n",
      "       [[32, 15, 13],\n",
      "        [30, 16, 12],\n",
      "        [25, 16,  9],\n",
      "        ...,\n",
      "        [18, 17, 15],\n",
      "        [18, 17, 15],\n",
      "        [18, 17, 15]]], dtype=uint8)\n",
      "orig_shape: (1125, 2000)\n",
      "path: '/Users/manohar/Documents/GCP_ML_Engineer/Code/Lab/9_Image_Ergonomics/images/image_7.jpg'\n",
      "probs: None\n",
      "save_dir: 'runs/pose/predict11'\n",
      "speed: {'preprocess': 1.879875002487097, 'inference': 139.94816599733895, 'postprocess': 0.4048749979119748}]\n"
     ]
    }
   ],
   "source": [
    "from ultralytics import YOLO\n",
    "\n",
    "model=YOLO('models/yolo11l-pose.pt')\n",
    "\n",
    "predict=model(source='images/image_7.jpg', save=True)\n",
    "print(\"Predict : \",predict)\n"
   ]
  },
  {
   "cell_type": "markdown",
   "id": "45346ca8",
   "metadata": {},
   "source": [
    "ORIGINAL IMAGE"
   ]
  },
  {
   "cell_type": "code",
   "execution_count": null,
   "id": "dbe0ef1b",
   "metadata": {},
   "outputs": [
    {
     "data": {
      "text/plain": [
       "13"
      ]
     },
     "execution_count": 2,
     "metadata": {},
     "output_type": "execute_result"
    },
    {
     "ename": "",
     "evalue": "",
     "output_type": "error",
     "traceback": [
      "\u001b[1;31mThe Kernel crashed while executing code in the current cell or a previous cell. \n",
      "\u001b[1;31mPlease review the code in the cell(s) to identify a possible cause of the failure. \n",
      "\u001b[1;31mClick <a href='https://aka.ms/vscodeJupyterKernelCrash'>here</a> for more info. \n",
      "\u001b[1;31mView Jupyter <a href='command:jupyter.viewOutput'>log</a> for further details."
     ]
    }
   ],
   "source": [
    "import cv2\n",
    "import numpy as np\n",
    "cv2.imshow('', predict[0].orig_img)\n",
    "cv2.waitKey(0)"
   ]
  },
  {
   "cell_type": "markdown",
   "id": "cb4342da",
   "metadata": {},
   "source": [
    "ANNOTATED IMAGE"
   ]
  },
  {
   "cell_type": "code",
   "execution_count": null,
   "id": "221d0d8d",
   "metadata": {},
   "outputs": [
    {
     "data": {
      "text/plain": [
       "13"
      ]
     },
     "execution_count": 5,
     "metadata": {},
     "output_type": "execute_result"
    }
   ],
   "source": [
    "import cv2\n",
    "import numpy as np\n",
    "cv2.imshow('', predict[0].plot())\n",
    "cv2.waitKey(0)"
   ]
  },
  {
   "cell_type": "code",
   "execution_count": 37,
   "id": "dd5b9880",
   "metadata": {},
   "outputs": [
    {
     "name": "stdout",
     "output_type": "stream",
     "text": [
      "<class 'list'>\n",
      "1\n"
     ]
    }
   ],
   "source": [
    "print(type(predict))\n",
    "print(len(predict))"
   ]
  },
  {
   "cell_type": "code",
   "execution_count": null,
   "id": "157bf44c",
   "metadata": {},
   "outputs": [
    {
     "data": {
      "text/plain": [
       "ultralytics.engine.results.Results"
      ]
     },
     "execution_count": 40,
     "metadata": {},
     "output_type": "execute_result"
    }
   ],
   "source": [
    "type(predict[0]) # This is a custom class developed by Ultralytics Framework"
   ]
  },
  {
   "cell_type": "code",
   "execution_count": null,
   "id": "37ed3a8e",
   "metadata": {},
   "outputs": [],
   "source": [
    "# if predict[0]"
   ]
  },
  {
   "cell_type": "code",
   "execution_count": 50,
   "id": "2b29056a",
   "metadata": {},
   "outputs": [
    {
     "data": {
      "text/plain": [
       "array([[[73, 79, 90],\n",
       "        [73, 79, 90],\n",
       "        [73, 79, 90],\n",
       "        ...,\n",
       "        [43, 46, 54],\n",
       "        [41, 44, 52],\n",
       "        [39, 42, 50]],\n",
       "\n",
       "       [[72, 78, 89],\n",
       "        [72, 78, 89],\n",
       "        [72, 78, 89],\n",
       "        ...,\n",
       "        [47, 49, 59],\n",
       "        [45, 47, 57],\n",
       "        [44, 46, 56]],\n",
       "\n",
       "       [[71, 77, 88],\n",
       "        [71, 77, 88],\n",
       "        [71, 77, 88],\n",
       "        ...,\n",
       "        [52, 57, 66],\n",
       "        [51, 56, 65],\n",
       "        [50, 55, 64]],\n",
       "\n",
       "       ...,\n",
       "\n",
       "       [[70, 72, 73],\n",
       "        [72, 74, 75],\n",
       "        [74, 76, 77],\n",
       "        ...,\n",
       "        [60, 64, 75],\n",
       "        [72, 76, 87],\n",
       "        [84, 88, 99]],\n",
       "\n",
       "       [[70, 72, 73],\n",
       "        [71, 73, 74],\n",
       "        [74, 76, 77],\n",
       "        ...,\n",
       "        [39, 43, 54],\n",
       "        [46, 50, 61],\n",
       "        [51, 55, 66]],\n",
       "\n",
       "       [[70, 72, 73],\n",
       "        [71, 73, 74],\n",
       "        [74, 76, 77],\n",
       "        ...,\n",
       "        [47, 51, 62],\n",
       "        [46, 50, 61],\n",
       "        [45, 49, 60]]], dtype=uint8)"
      ]
     },
     "execution_count": 50,
     "metadata": {},
     "output_type": "execute_result"
    }
   ],
   "source": [
    "predict[0].plot()"
   ]
  },
  {
   "cell_type": "code",
   "execution_count": 54,
   "id": "281866bd",
   "metadata": {},
   "outputs": [
    {
     "data": {
      "text/plain": [
       "array([[[73, 79, 90],\n",
       "        [73, 79, 90],\n",
       "        [73, 79, 90],\n",
       "        ...,\n",
       "        [43, 46, 54],\n",
       "        [41, 44, 52],\n",
       "        [39, 42, 50]],\n",
       "\n",
       "       [[72, 78, 89],\n",
       "        [72, 78, 89],\n",
       "        [72, 78, 89],\n",
       "        ...,\n",
       "        [47, 49, 59],\n",
       "        [45, 47, 57],\n",
       "        [44, 46, 56]],\n",
       "\n",
       "       [[71, 77, 88],\n",
       "        [71, 77, 88],\n",
       "        [71, 77, 88],\n",
       "        ...,\n",
       "        [52, 57, 66],\n",
       "        [51, 56, 65],\n",
       "        [50, 55, 64]],\n",
       "\n",
       "       ...,\n",
       "\n",
       "       [[70, 72, 73],\n",
       "        [72, 74, 75],\n",
       "        [74, 76, 77],\n",
       "        ...,\n",
       "        [60, 64, 75],\n",
       "        [72, 76, 87],\n",
       "        [84, 88, 99]],\n",
       "\n",
       "       [[70, 72, 73],\n",
       "        [71, 73, 74],\n",
       "        [74, 76, 77],\n",
       "        ...,\n",
       "        [39, 43, 54],\n",
       "        [46, 50, 61],\n",
       "        [51, 55, 66]],\n",
       "\n",
       "       [[70, 72, 73],\n",
       "        [71, 73, 74],\n",
       "        [74, 76, 77],\n",
       "        ...,\n",
       "        [47, 51, 62],\n",
       "        [46, 50, 61],\n",
       "        [45, 49, 60]]], dtype=uint8)"
      ]
     },
     "metadata": {},
     "output_type": "display_data"
    }
   ],
   "source": [
    "from IPython.display import display\n",
    "display(predict[0].plot())"
   ]
  },
  {
   "cell_type": "code",
   "execution_count": null,
   "id": "4fdcc030",
   "metadata": {},
   "outputs": [],
   "source": []
  }
 ],
 "metadata": {
  "kernelspec": {
   "display_name": "Pose Estimation Env",
   "language": "python",
   "name": "pose_estimation"
  },
  "language_info": {
   "codemirror_mode": {
    "name": "ipython",
    "version": 3
   },
   "file_extension": ".py",
   "mimetype": "text/x-python",
   "name": "python",
   "nbconvert_exporter": "python",
   "pygments_lexer": "ipython3",
   "version": "3.12.2"
  }
 },
 "nbformat": 4,
 "nbformat_minor": 5
}
